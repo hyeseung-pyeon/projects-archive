{
  "nbformat": 4,
  "nbformat_minor": 0,
  "metadata": {
    "colab": {
      "provenance": [],
      "authorship_tag": "ABX9TyPi+CvjOf3nuj4y16jF5UjR",
      "include_colab_link": true
    },
    "kernelspec": {
      "name": "python3",
      "display_name": "Python 3"
    },
    "language_info": {
      "name": "python"
    }
  },
  "cells": [
    {
      "cell_type": "markdown",
      "metadata": {
        "id": "view-in-github",
        "colab_type": "text"
      },
      "source": [
        "<a href=\"https://colab.research.google.com/github/hyeseung-pyeon/projects-archive/blob/main/chapter1_%EB%AF%B8%EB%B6%84_%EC%9E%90%EB%8F%99_%EA%B3%84%EC%82%B0ipynb.ipynb\" target=\"_parent\"><img src=\"https://colab.research.google.com/assets/colab-badge.svg\" alt=\"Open In Colab\"/></a>"
      ]
    },
    {
      "cell_type": "markdown",
      "source": [
        "1. 상자로서의 변수\n",
        "2. 변수를 낳는 함수\n",
        "3. 함수 연결\n",
        "4. 수치 미분\n",
        "5. 역전파 이론\n",
        "6. 수동 역전파\n",
        "7. 역전파 자동화\n",
        "8. 재귀에서 반복문으로\n",
        "9. 함수를 더 편리하게\n",
        "10. 테스트"
      ],
      "metadata": {
        "id": "JGoh0-4hDWsz"
      }
    },
    {
      "cell_type": "markdown",
      "source": [
        "1. 상자로서의 변수"
      ],
      "metadata": {
        "id": "II4BnhzxEGUc"
      }
    },
    {
      "cell_type": "code",
      "execution_count": 22,
      "metadata": {
        "id": "G_xu2rbTCWPG"
      },
      "outputs": [],
      "source": [
        "class Variable:\n",
        "    def __init__(self, data):\n",
        "        self.data = data"
      ]
    },
    {
      "cell_type": "code",
      "source": [
        "import numpy as np\n",
        "\n",
        "data = np.array(1.0)\n",
        "x = Variable(data)  # 인스턴스 생성\n",
        "print(x.data)"
      ],
      "metadata": {
        "colab": {
          "base_uri": "https://localhost:8080/"
        },
        "id": "a5A47LwNE219",
        "outputId": "14c5ec1e-5a31-4010-fe62-b6de27449be9"
      },
      "execution_count": 23,
      "outputs": [
        {
          "output_type": "stream",
          "name": "stdout",
          "text": [
            "1.0\n"
          ]
        }
      ]
    },
    {
      "cell_type": "code",
      "source": [
        "x.data = np.array(2.0)\n",
        "print(x.data)"
      ],
      "metadata": {
        "colab": {
          "base_uri": "https://localhost:8080/"
        },
        "id": "LlLeT6-nFZBw",
        "outputId": "8297cce5-7126-4799-d844-56011e27c608"
      },
      "execution_count": 24,
      "outputs": [
        {
          "output_type": "stream",
          "name": "stdout",
          "text": [
            "2.0\n"
          ]
        }
      ]
    },
    {
      "cell_type": "code",
      "source": [
        "# 보충: 넘파이의 다차원 배열\n",
        "\n",
        "import numpy as np\n",
        "x = np.array(1)\n",
        "x.ndim"
      ],
      "metadata": {
        "colab": {
          "base_uri": "https://localhost:8080/"
        },
        "id": "w7DPqs7OFuyY",
        "outputId": "9058aa2b-c0e4-493c-e554-072eaefd6e1b"
      },
      "execution_count": 25,
      "outputs": [
        {
          "output_type": "execute_result",
          "data": {
            "text/plain": [
              "0"
            ]
          },
          "metadata": {},
          "execution_count": 25
        }
      ]
    },
    {
      "cell_type": "code",
      "source": [
        "x = np.array([1, 2, 3])\n",
        "x.ndim"
      ],
      "metadata": {
        "colab": {
          "base_uri": "https://localhost:8080/"
        },
        "id": "VnynaV4NGSP9",
        "outputId": "db2e74d2-fcff-443c-d1bd-2fcf8306b239"
      },
      "execution_count": 26,
      "outputs": [
        {
          "output_type": "execute_result",
          "data": {
            "text/plain": [
              "1"
            ]
          },
          "metadata": {},
          "execution_count": 26
        }
      ]
    },
    {
      "cell_type": "code",
      "source": [
        "x = np.array([[1, 2, 3],[4, 5, 6]])\n",
        "x.ndim"
      ],
      "metadata": {
        "colab": {
          "base_uri": "https://localhost:8080/"
        },
        "id": "ezxYkaF4GW8F",
        "outputId": "73300370-e9b5-4105-9735-2e22d189e23b"
      },
      "execution_count": 27,
      "outputs": [
        {
          "output_type": "execute_result",
          "data": {
            "text/plain": [
              "2"
            ]
          },
          "metadata": {},
          "execution_count": 27
        }
      ]
    },
    {
      "cell_type": "markdown",
      "source": [
        "2. 변수를 낳는 함수"
      ],
      "metadata": {
        "id": "TuclUZLLG-xM"
      }
    },
    {
      "cell_type": "code",
      "source": [
        "class Function:\n",
        "    def __call__(self, input):\n",
        "        x = input.data\n",
        "        y = x**2\n",
        "        output = Variable(y)\n",
        "        return output"
      ],
      "metadata": {
        "id": "P2abASa0Gjxm"
      },
      "execution_count": 28,
      "outputs": []
    },
    {
      "cell_type": "code",
      "source": [
        "x = Variable(np.array(10))\n",
        "f = Function()\n",
        "y = f(x)\n",
        "\n",
        "print(type(y))\n",
        "print(y.data)"
      ],
      "metadata": {
        "colab": {
          "base_uri": "https://localhost:8080/"
        },
        "id": "nKnBY4GzSiLt",
        "outputId": "82364367-50f9-4512-c939-48140daea71c"
      },
      "execution_count": 29,
      "outputs": [
        {
          "output_type": "stream",
          "name": "stdout",
          "text": [
            "<class '__main__.Variable'>\n",
            "100\n"
          ]
        }
      ]
    },
    {
      "cell_type": "code",
      "source": [
        "# Function 클래스의 수정\n",
        "\n",
        "class Function:\n",
        "    def __call__(self, input):\n",
        "        x = input.data\n",
        "        y = self.forward(x)  # 구체적인 계산은 forward 라는 메서드에서 한다\n",
        "        output = Variable(y)\n",
        "        return output\n",
        "\n",
        "    def forward(self, x):\n",
        "        raise NotImplementedError()  # ?"
      ],
      "metadata": {
        "id": "zKtoOIoNSyZd"
      },
      "execution_count": 34,
      "outputs": []
    },
    {
      "cell_type": "code",
      "source": [
        "# Function 클래스 상속 -> 입력값을 제곱하는 Square 클래스를 구현\n",
        "\n",
        "class Square(Function):\n",
        "    def forward(self, x):  # forward 메서드에 구체적 계산로직을 작성해 넣기\n",
        "        return x**2"
      ],
      "metadata": {
        "id": "lhmorHqtUGgn"
      },
      "execution_count": 35,
      "outputs": []
    },
    {
      "cell_type": "code",
      "source": [
        "x = Variable(np.array(10))\n",
        "y = Square()  # 제곱 계산 함수 클래스의 인스턴스 생성\n",
        "y = f(x)\n",
        "\n",
        "print(type(y))\n",
        "print(y.data)"
      ],
      "metadata": {
        "colab": {
          "base_uri": "https://localhost:8080/"
        },
        "id": "QkIAPATOVfQK",
        "outputId": "023673e2-22be-47e8-fd09-3ed7daba7610"
      },
      "execution_count": 36,
      "outputs": [
        {
          "output_type": "stream",
          "name": "stdout",
          "text": [
            "<class '__main__.Variable'>\n",
            "100\n"
          ]
        }
      ]
    },
    {
      "cell_type": "markdown",
      "source": [
        "3. 함수의 연결"
      ],
      "metadata": {
        "id": "-3v3pC4wWMlb"
      }
    },
    {
      "cell_type": "code",
      "source": [
        "class Exp(Function):\n",
        "    def forward(self, x):\n",
        "        return np.exp(x)"
      ],
      "metadata": {
        "id": "6Egf2U4gV8zw"
      },
      "execution_count": 37,
      "outputs": []
    },
    {
      "cell_type": "code",
      "source": [
        "A = Square()\n",
        "B = Exp()\n",
        "C = Square()\n",
        "\n",
        "x = Variable(np.array(0.5))\n",
        "a = A(x)\n",
        "b = B(a)\n",
        "y = C(b)\n",
        "print(y.data)"
      ],
      "metadata": {
        "colab": {
          "base_uri": "https://localhost:8080/"
        },
        "id": "0x32GTg3W0pq",
        "outputId": "5e88e57b-77ae-49bf-e598-1d4e4045af59"
      },
      "execution_count": 39,
      "outputs": [
        {
          "output_type": "stream",
          "name": "stdout",
          "text": [
            "1.648721270700128\n"
          ]
        }
      ]
    },
    {
      "cell_type": "markdown",
      "source": [
        "4. 수치미분"
      ],
      "metadata": {
        "id": "kbkd3i_2n983"
      }
    },
    {
      "cell_type": "code",
      "source": [
        "def numerical_diff(f, x, eps = 1e-4):  # 수치 미분 함수 정의 with 중앙차분\n",
        "    x0 = Variable(x.data - eps)\n",
        "    x1 = Variable(x.data + eps)\n",
        "    y0 = f(x0)\n",
        "    y1 = f(x1)\n",
        "    return(y1.data - y0.data) / (2*eps)"
      ],
      "metadata": {
        "id": "Vx4HvAzhYUIi"
      },
      "execution_count": 42,
      "outputs": []
    },
    {
      "cell_type": "code",
      "source": [
        "f = Square()\n",
        "x = Variable(np.array(2.0))\n",
        "\n",
        "dy = numerical_diff(f, x)  # 수치미분 인스턴스 생성\n",
        "print(dy)"
      ],
      "metadata": {
        "colab": {
          "base_uri": "https://localhost:8080/"
        },
        "id": "O89-AV6lrRbh",
        "outputId": "9bead781-3ff5-4696-c57f-431a6ad857d9"
      },
      "execution_count": 43,
      "outputs": [
        {
          "output_type": "stream",
          "name": "stdout",
          "text": [
            "4.000000000004\n"
          ]
        }
      ]
    },
    {
      "cell_type": "code",
      "source": [
        "# 합성함수 미분\n",
        "\n",
        "def f(x):\n",
        "    A = Square()\n",
        "    B = Exp()\n",
        "    C = Square()\n",
        "    return(C(B(A(x))))\n",
        "\n",
        "x = Variable(np.array(0.5))\n",
        "dy = numerical_diff(f, x)\n",
        "print(dy)"
      ],
      "metadata": {
        "colab": {
          "base_uri": "https://localhost:8080/"
        },
        "id": "zkURGSvxr8EL",
        "outputId": "7b362c1f-77bc-4d25-8c27-5c2d179f5516"
      },
      "execution_count": 45,
      "outputs": [
        {
          "output_type": "stream",
          "name": "stdout",
          "text": [
            "3.2974426293330694\n"
          ]
        }
      ]
    },
    {
      "cell_type": "markdown",
      "source": [
        "5. 역전파 이론"
      ],
      "metadata": {
        "id": "Fmf91odCtSEQ"
      }
    },
    {
      "cell_type": "markdown",
      "source": [
        "6. 수동 역전파"
      ],
      "metadata": {
        "id": "wVfUmzd2_8Ng"
      }
    },
    {
      "cell_type": "code",
      "source": [
        "class Variable:   # 역전파에 대응하는 클래스: data 뿐 아니라 grad도 저장\n",
        "    def __init__(self, data):\n",
        "        self.data = data\n",
        "        self.grad = None  # 초기화 -> 나중에 역전파 하면 미분값 계산해서 넣으면 됨"
      ],
      "metadata": {
        "id": "5iqGcBrYsdLq"
      },
      "execution_count": 46,
      "outputs": []
    },
    {
      "cell_type": "code",
      "source": [
        "class Function:\n",
        "    def __call__(self, input):\n",
        "        x = input.data\n",
        "        y = self.forward(x)\n",
        "        output = Variable(y)\n",
        "        self.input = input  # 입력된 변수를 기억(보관)함\n",
        "        return output\n",
        "\n",
        "    def forward(self, x):\n",
        "        raise NotImplementedError()\n",
        "\n",
        "    def backward(self, gy):  # gy: ndarray의 인스턴스. 출력쪽에서 전해지는 미분값을 전달하는 역할을 함\n",
        "        raise NotImplementedError()"
      ],
      "metadata": {
        "id": "wQEz3XtiA3KB"
      },
      "execution_count": 47,
      "outputs": []
    },
    {
      "cell_type": "code",
      "source": [
        "# Square, Exp 클래스 추가 구현\n",
        "\n",
        "class Square(Function):\n",
        "    def forward(self, x):\n",
        "        y = x**2\n",
        "        return y\n",
        "\n",
        "    def backward(self, gy):\n",
        "        x = self.input.data  # 저장해 둔 x 값을 불러와\n",
        "        gx = 2*x*gy  # 미분값 계산\n",
        "        return gx\n",
        "\n",
        "class Exp(Function):\n",
        "    def forward(self, x):\n",
        "        y = np.exp(x)\n",
        "        return y\n",
        "\n",
        "    def backward(self, gy):\n",
        "        x = self.input.data\n",
        "        gx = np.exp(x) * gy\n",
        "        return gx"
      ],
      "metadata": {
        "id": "UY199uUsCSyW"
      },
      "execution_count": 49,
      "outputs": []
    },
    {
      "cell_type": "code",
      "source": [
        "# 순전파 구현\n",
        "\n",
        "A = Square()\n",
        "B = Exp()\n",
        "C = Square()\n",
        "\n",
        "x = Variable(np.array(0.5))\n",
        "a = A(x)\n",
        "b = B(a)\n",
        "y = C(b)\n",
        "\n",
        "# 역전파 구현\n",
        "\n",
        "y.grad = np.array(1.0)  # 처음 dy/dy = 1\n",
        "b.grad = C.backward(y.grad)\n",
        "a.grad = B.backward(b.grad)\n",
        "x.grad = A.backward(a.grad)\n",
        "\n",
        "print(x.grad)"
      ],
      "metadata": {
        "colab": {
          "base_uri": "https://localhost:8080/"
        },
        "id": "qvQWl3JkEubg",
        "outputId": "6cc7a1b8-7ae5-4ef0-9315-7cbebfebae61"
      },
      "execution_count": 50,
      "outputs": [
        {
          "output_type": "stream",
          "name": "stdout",
          "text": [
            "3.297442541400256\n"
          ]
        }
      ]
    },
    {
      "cell_type": "markdown",
      "source": [
        "7. 역전파 자동화"
      ],
      "metadata": {
        "id": "rnTO84SYE5Fs"
      }
    },
    {
      "cell_type": "code",
      "source": [
        "# 순전파 연산이 이루어지는 시점에 함수와 변수를 연결짓도록 만들기\n",
        "\n",
        "class Variable:\n",
        "    def __init__(self, x):\n",
        "        self.data = data\n",
        "        self.grad = None\n",
        "        self.creator = None  # 인스턴스 변수 \"creator\" 추가: 변수의 입장에서 함수는 creator -> 맨 처음엔 이 creator에 아무 것도 넣지 않는다.\n",
        "\n",
        "    def set_creator(self, func):  # creator 를 설정(기억시키는)하는 메서드\n",
        "        self.creator = func"
      ],
      "metadata": {
        "id": "-ngcNHz2Hs9R"
      },
      "execution_count": 60,
      "outputs": []
    },
    {
      "cell_type": "code",
      "source": [
        "class Function:\n",
        "    def __call__(self, input):\n",
        "        x = input.data\n",
        "        y = self.forward(x)\n",
        "        output = Variable(y)\n",
        "\n",
        "        output.set_creator(self)  # 출력 변수에 crator를 설정\n",
        "        self.input = input  # 입력변수 저장\n",
        "        self.output = output  # 출력변수도 저장\n",
        "        return output\n",
        "\n",
        "\n",
        "# 클래스 설명: 순전파 계산 -> output 이라는 Variable 인스턴스 생성 -> 생성된 output에 \"내가 너의 creator 다\" 라는 사실을 기억시킴 => \"연결\" 을 동적으로 만드는 핵심! -> output을 인스턴스 변수에 저장\n",
        "# 동적 계산 그래프: 실제 계산이 이루어질 때 변수(상자)에 관련 연결을 기록하는 방식"
      ],
      "metadata": {
        "id": "yTC_EvqHLKor"
      },
      "execution_count": 61,
      "outputs": []
    },
    {
      "cell_type": "code",
      "source": [
        "A = Square()\n",
        "B = Exp()\n",
        "C = Square()\n",
        "\n",
        "x = Variable(np.array(0.5))\n",
        "a = A(x)\n",
        "b = B(a)\n",
        "y = C(b)\n",
        "\n",
        "# 역전파: 계산 그래프의 노드들을 거꾸로 거슬러 올라간다\n",
        "# assert -> 조건 충족 여부 확인: True가 아닐 경우 예외 발생\n",
        "assert y.creator == C\n",
        "assert y.creator.input == b\n",
        "assert y.creator.input.creator == B\n",
        "assert y.creator.input.creator.input == a\n",
        "assert y.creator.input.creator.input.creator == A\n",
        "assert y.creator.input.creator.input.creator.input == x"
      ],
      "metadata": {
        "id": "PCuuTLmdMhzv"
      },
      "execution_count": 71,
      "outputs": []
    },
    {
      "cell_type": "code",
      "source": [
        "# 역전파 도전: 변수와 함수의 관계를 이용해 역전파 시도\n",
        "\n",
        "# 1) y -> b\n",
        "y.grad = np.array(1.0)\n",
        "\n",
        "C = y.creator  # 1. 함수를 가져온다\n",
        "b = C.input  # 2. 함수의 입력을 가져온다\n",
        "b.grad = C.backward(y.grad)  # 3. 함수의 backward 메서드를 호출한다"
      ],
      "metadata": {
        "id": "MmhXHFpPaZbt"
      },
      "execution_count": 72,
      "outputs": []
    },
    {
      "cell_type": "code",
      "source": [
        "# 2) b -> a\n",
        "\n",
        "B = b.creator\n",
        "a = B.input\n",
        "a.grad = B.backward(b.grad)\n",
        "\n",
        "# 3) a -> x\n",
        "\n",
        "A = a.creator\n",
        "x = A.input\n",
        "x.grad = A.backward(a.grad)\n",
        "\n",
        "print(x.grad)"
      ],
      "metadata": {
        "colab": {
          "base_uri": "https://localhost:8080/"
        },
        "id": "n2Ceg_P_3fOe",
        "outputId": "95aa48c7-0e79-45c3-aa5b-dd1ba91339a9"
      },
      "execution_count": 73,
      "outputs": [
        {
          "output_type": "stream",
          "name": "stdout",
          "text": [
            "10.87312731383618\n"
          ]
        }
      ]
    },
    {
      "cell_type": "code",
      "source": [
        "# backward 메서드를 추가\n",
        "\n",
        "class Variable:\n",
        "    def __init__(self, data):\n",
        "        self.data = data\n",
        "        self.grad = None\n",
        "        self.creator = None\n",
        "\n",
        "    def set_creator(self, func):\n",
        "        self.creator = func\n",
        "\n",
        "    def backward(self):\n",
        "        f = self.creator  # 1. 함수를 가져온다.\n",
        "        if f is not None:\n",
        "            x = f.input  # 2. 함수의 입력을 가져온다.\n",
        "            x.grad = f.backward(self.grad)  # 3. 함수의 backward 메서드를 호출한다.\n",
        "            x.backward()  # 입력이었던 앞 변수의 backward 메서드를 호출한다. (재귀)"
      ],
      "metadata": {
        "id": "egxMt8xV36-5"
      },
      "execution_count": 74,
      "outputs": []
    },
    {
      "cell_type": "code",
      "source": [
        "A = Square()\n",
        "B = Exp()\n",
        "C = Square()\n",
        "\n",
        "x = Variable(np.array(0.5))\n",
        "a = A(x)\n",
        "b = B(a)\n",
        "y = C(b)\n",
        "\n",
        "# 역전파\n",
        "y.grad = np.array(1.0)\n",
        "y.backward()\n",
        "\n",
        "print(x.grad)"
      ],
      "metadata": {
        "colab": {
          "base_uri": "https://localhost:8080/"
        },
        "id": "PahzIQzv6hjS",
        "outputId": "7fb51df6-f2a4-420f-cf3d-db801148f570"
      },
      "execution_count": 75,
      "outputs": [
        {
          "output_type": "stream",
          "name": "stdout",
          "text": [
            "3.297442541400256\n"
          ]
        }
      ]
    },
    {
      "cell_type": "markdown",
      "source": [
        "8. 재귀에서 반복문으로"
      ],
      "metadata": {
        "id": "o2i20Ymt7b4G"
      }
    },
    {
      "cell_type": "code",
      "source": [
        "# 현재의 Variable 클래스: backward 메서드를 직접 추가 -> 구현방식을 좀 바꿔보자\n",
        "# 현재 방식; 재귀적 구조! 즉, self.creator 가 None 인 변수를 찾을 때 까지 계속 됨\n",
        "# 반복문을 이용해 구현하자!\n",
        "\n",
        "class Variable:\n",
        "\n",
        "    def __init__(self, data):\n",
        "        self.data = data\n",
        "        self.grad = None\n",
        "        self.creator = None\n",
        "\n",
        "    def set_creator(self, func):\n",
        "        self.creator = func\n",
        "\n",
        "    def backward(self):\n",
        "        funcs = [self.creator]\n",
        "\n",
        "        while funcs:\n",
        "            f = funcs.pop()  # 함수를 가져온다\n",
        "            x, y = f.input, f.output  #  함수의 입출력을 가져온다\n",
        "            x.grad = f.backward(y.grad)  # backward 메서드를 호출\n",
        "\n",
        "            if x.creator is not None:\n",
        "                funcs.append(x.creator)  # 하나 앞의 함수를 리스트에 추가"
      ],
      "metadata": {
        "id": "oIQUzB-f7YBT"
      },
      "execution_count": 84,
      "outputs": []
    },
    {
      "cell_type": "code",
      "source": [
        "A = Square()\n",
        "B = Exp()\n",
        "C = Square()\n",
        "\n",
        "x = Variable(np.array(0.5))\n",
        "a = A(x)\n",
        "b = B(a)\n",
        "y = C(b)\n",
        "\n",
        "# 역전파\n",
        "y.grad = np.array(1.0)\n",
        "y.backward()\n",
        "\n",
        "print(x.grad)"
      ],
      "metadata": {
        "colab": {
          "base_uri": "https://localhost:8080/"
        },
        "id": "LknifkFACNDG",
        "outputId": "b02cb83e-fc41-4a20-e4f4-2982b57294d8"
      },
      "execution_count": 85,
      "outputs": [
        {
          "output_type": "stream",
          "name": "stdout",
          "text": [
            "3.297442541400256\n"
          ]
        }
      ]
    },
    {
      "cell_type": "markdown",
      "source": [
        "9.함수를 더 편리하게"
      ],
      "metadata": {
        "id": "7rQA6KyqGMFo"
      }
    },
    {
      "cell_type": "code",
      "source": [
        "# 1) 파이썬 함수로이용하기\n",
        "\n",
        "# 기존 방식: 함수를 파이썬 클래스로 정의 -> 인스턴스 생성 -> 호출\n",
        "\n",
        "x = Variable(np.array(0.5))\n",
        "f = Square()  # 함수 인스턴스 생성\n",
        "y = f(x)  # 함수를 호출\n",
        "\n",
        "# 파이썬 함수를 직접 정의\n",
        "\n",
        "# 1. 제곱함수 정의\n",
        "def square(x):\n",
        "    f = square()\n",
        "    return f(x)\n",
        "\n",
        "def exp(x):\n",
        "    f = exp()\n",
        "    return f(x)"
      ],
      "metadata": {
        "id": "7pdwDHmSCQt4"
      },
      "execution_count": null,
      "outputs": []
    }
  ]
}